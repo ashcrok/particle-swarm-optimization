{
 "cells": [
  {
   "cell_type": "markdown",
   "metadata": {},
   "source": [
    "### Particle swarm optimization\n",
    "\n",
    "The method uses a group of particles which move in the search space. Each partcle is represented by a vector <b>x</b> with length <b>n</b> (depending on the given problem), indicating the position in the <b>n</b>-dimensional space and it has a direction <b>v</b> to be used to update the current position.\n",
    "\n",
    "The velocity (direction) vector <b>v</b> counts the following rules:\n",
    "- each particle wants to maintain its current direction\n",
    "- each particle is attracted by the best position (value) it reached so far\n",
    "- each particle is attracted by the best particle in the swarm (in the population)\n",
    "\n",
    "Thus, at each interation of the algorithm, each particle updates its position and velocity from the previous iteration <i>t</i> as follows:\n",
    "- v[t+1] = w1 \\* v[t] + w2 \\* rand() \\* (p-x) + w3 \\* rand() \\* (g-x)\n",
    "- x[t+1] = x[t] + v[t+1]\n",
    "\n",
    "Parameters:\n",
    "- <b><i>w1</i></b> - inertion parameter - it helps the particle hold its balance in between exploration and exploatation\n",
    "- <b><i>w2</i></b> - cognitive parameter - the tendency to duplicate actions from the past that proved to be successfull\n",
    "- <b><i>w3</i></b> - social parameter - the tendency to follow the success of the other particles in the swarm"
   ]
  },
  {
   "cell_type": "markdown",
   "metadata": {},
   "source": [
    "---"
   ]
  },
  {
   "cell_type": "markdown",
   "metadata": {},
   "source": [
    "#### Libraries\n",
    "- Numpy for linear algebra operations"
   ]
  },
  {
   "cell_type": "code",
   "execution_count": 1,
   "metadata": {
    "collapsed": true
   },
   "outputs": [],
   "source": [
    "import numpy as np"
   ]
  },
  {
   "cell_type": "markdown",
   "metadata": {},
   "source": [
    "#### Rastrigin - DEMO Function\n",
    "\n",
    "- <b><i>n</i></b> - number of input parameters\n",
    "\n",
    "- <b><i>minx</i></b>, <b><i>maxx</i></b> - the domain of the function"
   ]
  },
  {
   "cell_type": "code",
   "execution_count": 194,
   "metadata": {
    "collapsed": true
   },
   "outputs": [],
   "source": [
    "minx, maxx = -5.12, 5.12\n",
    "n = 3\n",
    "def rastrigin(x):\n",
    "    return 10 * len(x) + sum([xi * xi - 10 * np.cos(2 * 3.14 * xi) for xi in x])"
   ]
  },
  {
   "cell_type": "markdown",
   "metadata": {},
   "source": [
    "---"
   ]
  },
  {
   "cell_type": "markdown",
   "metadata": {},
   "source": [
    "#### Particle class\n",
    "Holds all the information needed for the particle to evolve and its past best information\n",
    "\n",
    "- <b><i>value</i></b> - vector of dimension <b><i>n</i></b>\n",
    "- <b><i>velocity</i></b> - the velocity vector for the particle\n",
    "- <b><i>fitness</i></b> - score value of the demo <b><i>rastrigin</i></b> function\n",
    "- <b><i>best_value</i></b> - stores the best position in the history of the particle\n",
    "- <b><i>best_fitness</i></b> - stores the best score value in the history of the particle"
   ]
  },
  {
   "cell_type": "code",
   "execution_count": 133,
   "metadata": {
    "collapsed": true
   },
   "outputs": [],
   "source": [
    "class Particle:\n",
    "    def __init__(self):\n",
    "        self.value = (maxx - minx) * np.random.rand(n) + minx\n",
    "        self.velocity = np.random.rand(n)\n",
    "        self.fitness = rastrigin(self.value)\n",
    "        \n",
    "        self.best_value = np.copy(self.value)\n",
    "        self.best_fitness = self.fitness"
   ]
  },
  {
   "cell_type": "markdown",
   "metadata": {},
   "source": [
    "---"
   ]
  },
  {
   "cell_type": "markdown",
   "metadata": {},
   "source": [
    "#### Actual algorithm\n",
    "\n",
    "The algorithm runs for 500 iterations with a swarm size of 50. At each iteration, update the velocity, the position value, the fitness score and the particles best value and fitness for each particle in the swarm. Also, store and update the best particle information (position value and fitness).\n",
    "\n",
    "Three hyper-parameters are used: w1, w2, w3. These should be updated depending on the problem at hand. For the Rastrigin DEMO function, this setup gives good results. A superviser genetic algorithm can be used to optimize the hyper-parameters."
   ]
  },
  {
   "cell_type": "code",
   "execution_count": 220,
   "metadata": {
    "collapsed": false
   },
   "outputs": [
    {
     "name": "stdout",
     "output_type": "stream",
     "text": [
      "Solution:  [  1.35520013e-09   1.65970072e-09  -1.65246978e-09]\n",
      "Fitness:  0.0\n"
     ]
    }
   ],
   "source": [
    "# hyper-parameters\n",
    "w1 = 0.7\n",
    "w2 = 1.4\n",
    "w3 = 1.4\n",
    "\n",
    "swarm_size = 50\n",
    "swarm = [ Particle() for i in range(swarm_size) ]\n",
    "\n",
    "best_swarm_fitness = 1000\n",
    "for i in range(swarm_size):\n",
    "    if swarm[i].fitness < best_swarm_fitness:\n",
    "        best_swarm_fitness = swarm[i].fitness\n",
    "        best_swarm_value = swarm[i].value\n",
    "        \n",
    "for iteration in range(500):\n",
    "    for i in range(swarm_size):\n",
    "        swarm[i].velocity = w1 * swarm[i].velocity + w2 * np.random.rand(n) * (swarm[i].best_value - swarm[i].value) + w3 * np.random.rand(n) * (best_swarm_value - swarm[i].value)\n",
    "        swarm[i].value = swarm[i].value + swarm[i].velocity\n",
    "        swarm[i].fitness = rastrigin(swarm[i].value)\n",
    "        if swarm[i].fitness < swarm[i].best_fitness:\n",
    "            swarm[i].best_value = swarm[i].value\n",
    "            swarm[i].best_fitness = swarm[i].fitness\n",
    "        if swarm[i].fitness < best_swarm_fitness:\n",
    "            best_swarm_fitness = swarm[i].fitness\n",
    "            best_swarm_value = swarm[i].value\n",
    "\n",
    "print(\"Solution: \", best_swarm_value)\n",
    "print(\"Fitness: \", best_swarm_fitness)"
   ]
  }
 ],
 "metadata": {
  "kernelspec": {
   "display_name": "Python 3",
   "language": "python",
   "name": "python3"
  },
  "language_info": {
   "codemirror_mode": {
    "name": "ipython",
    "version": 3
   },
   "file_extension": ".py",
   "mimetype": "text/x-python",
   "name": "python",
   "nbconvert_exporter": "python",
   "pygments_lexer": "ipython3",
   "version": "3.5.2"
  }
 },
 "nbformat": 4,
 "nbformat_minor": 2
}
